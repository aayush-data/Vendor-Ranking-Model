{
  "nbformat": 4,
  "nbformat_minor": 0,
  "metadata": {
    "colab": {
      "name": "Ranking Vendors.ipynb",
      "provenance": [],
      "collapsed_sections": []
    },
    "kernelspec": {
      "name": "python3",
      "display_name": "Python 3"
    }
  },
  "cells": [
    {
      "cell_type": "code",
      "metadata": {
        "id": "VBP29Obby_TN"
      },
      "source": [
        "import numpy as np\r\n",
        "import pandas as pd\r\n",
        "import math\r\n",
        "np.set_printoptions(formatter={'float_kind':'{:f}'.format})"
      ],
      "execution_count": 142,
      "outputs": []
    },
    {
      "cell_type": "code",
      "metadata": {
        "id": "0S_HxJxjzQEv"
      },
      "source": [
        "dataset = pd.read_csv('Hotdogs.csv')\r\n"
      ],
      "execution_count": 143,
      "outputs": []
    },
    {
      "cell_type": "code",
      "metadata": {
        "colab": {
          "base_uri": "https://localhost:8080/",
          "height": 200
        },
        "id": "_fgSSyr1z3E8",
        "outputId": "0142c0f6-c9e6-4ade-fe70-7b027ddd4584"
      },
      "source": [
        "dataset.head()"
      ],
      "execution_count": 144,
      "outputs": [
        {
          "output_type": "execute_result",
          "data": {
            "text/html": [
              "<div>\n",
              "<style scoped>\n",
              "    .dataframe tbody tr th:only-of-type {\n",
              "        vertical-align: middle;\n",
              "    }\n",
              "\n",
              "    .dataframe tbody tr th {\n",
              "        vertical-align: top;\n",
              "    }\n",
              "\n",
              "    .dataframe thead th {\n",
              "        text-align: right;\n",
              "    }\n",
              "</style>\n",
              "<table border=\"1\" class=\"dataframe\">\n",
              "  <thead>\n",
              "    <tr style=\"text-align: right;\">\n",
              "      <th></th>\n",
              "      <th>game</th>\n",
              "      <th>day</th>\n",
              "      <th>section</th>\n",
              "      <th>vendor</th>\n",
              "      <th>hot_dogs_sold</th>\n",
              "    </tr>\n",
              "  </thead>\n",
              "  <tbody>\n",
              "    <tr>\n",
              "      <th>0</th>\n",
              "      <td>1</td>\n",
              "      <td>2</td>\n",
              "      <td>1</td>\n",
              "      <td>6</td>\n",
              "      <td>145</td>\n",
              "    </tr>\n",
              "    <tr>\n",
              "      <th>1</th>\n",
              "      <td>1</td>\n",
              "      <td>2</td>\n",
              "      <td>2</td>\n",
              "      <td>10</td>\n",
              "      <td>121</td>\n",
              "    </tr>\n",
              "    <tr>\n",
              "      <th>2</th>\n",
              "      <td>1</td>\n",
              "      <td>2</td>\n",
              "      <td>3</td>\n",
              "      <td>21</td>\n",
              "      <td>56</td>\n",
              "    </tr>\n",
              "    <tr>\n",
              "      <th>3</th>\n",
              "      <td>1</td>\n",
              "      <td>2</td>\n",
              "      <td>4</td>\n",
              "      <td>8</td>\n",
              "      <td>123</td>\n",
              "    </tr>\n",
              "    <tr>\n",
              "      <th>4</th>\n",
              "      <td>1</td>\n",
              "      <td>2</td>\n",
              "      <td>5</td>\n",
              "      <td>4</td>\n",
              "      <td>100</td>\n",
              "    </tr>\n",
              "  </tbody>\n",
              "</table>\n",
              "</div>"
            ],
            "text/plain": [
              "   game  day  section  vendor  hot_dogs_sold\n",
              "0     1    2        1       6            145\n",
              "1     1    2        2      10            121\n",
              "2     1    2        3      21             56\n",
              "3     1    2        4       8            123\n",
              "4     1    2        5       4            100"
            ]
          },
          "metadata": {
            "tags": []
          },
          "execution_count": 144
        }
      ]
    },
    {
      "cell_type": "code",
      "metadata": {
        "colab": {
          "base_uri": "https://localhost:8080/",
          "height": 311
        },
        "id": "UIEdsSJdz9uP",
        "outputId": "1a8dcb31-ed4a-4787-cd46-f2dff3194dbb"
      },
      "source": [
        "dataset.describe()"
      ],
      "execution_count": 158,
      "outputs": [
        {
          "output_type": "execute_result",
          "data": {
            "text/html": [
              "<div>\n",
              "<style scoped>\n",
              "    .dataframe tbody tr th:only-of-type {\n",
              "        vertical-align: middle;\n",
              "    }\n",
              "\n",
              "    .dataframe tbody tr th {\n",
              "        vertical-align: top;\n",
              "    }\n",
              "\n",
              "    .dataframe thead th {\n",
              "        text-align: right;\n",
              "    }\n",
              "</style>\n",
              "<table border=\"1\" class=\"dataframe\">\n",
              "  <thead>\n",
              "    <tr style=\"text-align: right;\">\n",
              "      <th></th>\n",
              "      <th>game</th>\n",
              "      <th>day</th>\n",
              "      <th>section</th>\n",
              "      <th>vendor</th>\n",
              "      <th>hot_dogs_sold</th>\n",
              "      <th>Gfactor</th>\n",
              "      <th>Dfactor</th>\n",
              "      <th>Sfactor</th>\n",
              "      <th>Factored_hot_dogs_sold</th>\n",
              "    </tr>\n",
              "  </thead>\n",
              "  <tbody>\n",
              "    <tr>\n",
              "      <th>count</th>\n",
              "      <td>1588.000000</td>\n",
              "      <td>1588.000000</td>\n",
              "      <td>1588.000000</td>\n",
              "      <td>1588.000000</td>\n",
              "      <td>1588.000000</td>\n",
              "      <td>1588.000000</td>\n",
              "      <td>1588.000000</td>\n",
              "      <td>1588.000000</td>\n",
              "      <td>1588.000000</td>\n",
              "    </tr>\n",
              "    <tr>\n",
              "      <th>mean</th>\n",
              "      <td>40.943955</td>\n",
              "      <td>3.968514</td>\n",
              "      <td>10.539043</td>\n",
              "      <td>11.928212</td>\n",
              "      <td>135.066121</td>\n",
              "      <td>0.746016</td>\n",
              "      <td>0.815015</td>\n",
              "      <td>0.818087</td>\n",
              "      <td>275.397768</td>\n",
              "    </tr>\n",
              "    <tr>\n",
              "      <th>std</th>\n",
              "      <td>23.339337</td>\n",
              "      <td>1.974383</td>\n",
              "      <td>5.767966</td>\n",
              "      <td>6.949717</td>\n",
              "      <td>65.781397</td>\n",
              "      <td>0.112655</td>\n",
              "      <td>0.099154</td>\n",
              "      <td>0.072526</td>\n",
              "      <td>131.209141</td>\n",
              "    </tr>\n",
              "    <tr>\n",
              "      <th>min</th>\n",
              "      <td>1.000000</td>\n",
              "      <td>1.000000</td>\n",
              "      <td>1.000000</td>\n",
              "      <td>1.000000</td>\n",
              "      <td>1.000000</td>\n",
              "      <td>0.532450</td>\n",
              "      <td>0.683104</td>\n",
              "      <td>0.673972</td>\n",
              "      <td>1.960650</td>\n",
              "    </tr>\n",
              "    <tr>\n",
              "      <th>25%</th>\n",
              "      <td>21.000000</td>\n",
              "      <td>2.000000</td>\n",
              "      <td>6.000000</td>\n",
              "      <td>6.000000</td>\n",
              "      <td>88.000000</td>\n",
              "      <td>0.663963</td>\n",
              "      <td>0.735000</td>\n",
              "      <td>0.780209</td>\n",
              "      <td>183.823504</td>\n",
              "    </tr>\n",
              "    <tr>\n",
              "      <th>50%</th>\n",
              "      <td>41.000000</td>\n",
              "      <td>4.000000</td>\n",
              "      <td>11.000000</td>\n",
              "      <td>12.000000</td>\n",
              "      <td>129.000000</td>\n",
              "      <td>0.734880</td>\n",
              "      <td>0.780252</td>\n",
              "      <td>0.808222</td>\n",
              "      <td>268.285425</td>\n",
              "    </tr>\n",
              "    <tr>\n",
              "      <th>75%</th>\n",
              "      <td>61.000000</td>\n",
              "      <td>6.000000</td>\n",
              "      <td>16.000000</td>\n",
              "      <td>17.000000</td>\n",
              "      <td>178.000000</td>\n",
              "      <td>0.810477</td>\n",
              "      <td>0.915260</td>\n",
              "      <td>0.838234</td>\n",
              "      <td>355.436494</td>\n",
              "    </tr>\n",
              "    <tr>\n",
              "      <th>max</th>\n",
              "      <td>81.000000</td>\n",
              "      <td>7.000000</td>\n",
              "      <td>20.000000</td>\n",
              "      <td>30.000000</td>\n",
              "      <td>432.000000</td>\n",
              "      <td>1.000000</td>\n",
              "      <td>1.000000</td>\n",
              "      <td>1.000000</td>\n",
              "      <td>954.142074</td>\n",
              "    </tr>\n",
              "  </tbody>\n",
              "</table>\n",
              "</div>"
            ],
            "text/plain": [
              "              game          day  ...      Sfactor  Factored_hot_dogs_sold\n",
              "count  1588.000000  1588.000000  ...  1588.000000             1588.000000\n",
              "mean     40.943955     3.968514  ...     0.818087              275.397768\n",
              "std      23.339337     1.974383  ...     0.072526              131.209141\n",
              "min       1.000000     1.000000  ...     0.673972                1.960650\n",
              "25%      21.000000     2.000000  ...     0.780209              183.823504\n",
              "50%      41.000000     4.000000  ...     0.808222              268.285425\n",
              "75%      61.000000     6.000000  ...     0.838234              355.436494\n",
              "max      81.000000     7.000000  ...     1.000000              954.142074\n",
              "\n",
              "[8 rows x 9 columns]"
            ]
          },
          "metadata": {
            "tags": []
          },
          "execution_count": 158
        }
      ]
    },
    {
      "cell_type": "markdown",
      "metadata": {
        "id": "MBCxJa5Wk4Qb"
      },
      "source": [
        "Romoving rows where hot_dogs_sold is 0, as that section might be close and does not affect the ability of the vendor"
      ]
    },
    {
      "cell_type": "code",
      "metadata": {
        "id": "C52sldJGkhqu"
      },
      "source": [
        "dataset = dataset[dataset.hot_dogs_sold != 0]\r\n"
      ],
      "execution_count": 146,
      "outputs": []
    },
    {
      "cell_type": "markdown",
      "metadata": {
        "id": "a8nkT4vQlQkv"
      },
      "source": [
        "Seperating the game, day and section data to remove their affect on the hotdogs sold and normalizing their affect"
      ]
    },
    {
      "cell_type": "code",
      "metadata": {
        "colab": {
          "base_uri": "https://localhost:8080/",
          "height": 230
        },
        "id": "ZXywmoJI0Eds",
        "outputId": "0f366aed-0962-4b86-ea69-8d2042932e89"
      },
      "source": [
        "gm = dataset.groupby(['game']).mean()\r\n",
        "gm.drop(columns=['day', 'section','vendor'], axis=1, inplace=True)\r\n",
        "gm=gm/gm.max()\r\n",
        "gm= gm.rename(columns={'game': 'game', 'hot_dogs_sold': 'Gfactor'})\r\n",
        "gm.head()"
      ],
      "execution_count": 147,
      "outputs": [
        {
          "output_type": "execute_result",
          "data": {
            "text/html": [
              "<div>\n",
              "<style scoped>\n",
              "    .dataframe tbody tr th:only-of-type {\n",
              "        vertical-align: middle;\n",
              "    }\n",
              "\n",
              "    .dataframe tbody tr th {\n",
              "        vertical-align: top;\n",
              "    }\n",
              "\n",
              "    .dataframe thead th {\n",
              "        text-align: right;\n",
              "    }\n",
              "</style>\n",
              "<table border=\"1\" class=\"dataframe\">\n",
              "  <thead>\n",
              "    <tr style=\"text-align: right;\">\n",
              "      <th></th>\n",
              "      <th>Gfactor</th>\n",
              "    </tr>\n",
              "    <tr>\n",
              "      <th>game</th>\n",
              "      <th></th>\n",
              "    </tr>\n",
              "  </thead>\n",
              "  <tbody>\n",
              "    <tr>\n",
              "      <th>1</th>\n",
              "      <td>0.743993</td>\n",
              "    </tr>\n",
              "    <tr>\n",
              "      <th>2</th>\n",
              "      <td>0.668600</td>\n",
              "    </tr>\n",
              "    <tr>\n",
              "      <th>3</th>\n",
              "      <td>0.704952</td>\n",
              "    </tr>\n",
              "    <tr>\n",
              "      <th>4</th>\n",
              "      <td>0.784866</td>\n",
              "    </tr>\n",
              "    <tr>\n",
              "      <th>5</th>\n",
              "      <td>0.812803</td>\n",
              "    </tr>\n",
              "  </tbody>\n",
              "</table>\n",
              "</div>"
            ],
            "text/plain": [
              "       Gfactor\n",
              "game          \n",
              "1     0.743993\n",
              "2     0.668600\n",
              "3     0.704952\n",
              "4     0.784866\n",
              "5     0.812803"
            ]
          },
          "metadata": {
            "tags": []
          },
          "execution_count": 147
        }
      ]
    },
    {
      "cell_type": "code",
      "metadata": {
        "colab": {
          "base_uri": "https://localhost:8080/",
          "height": 291
        },
        "id": "SPi0jOcO2RIH",
        "outputId": "7a3d9538-d323-47dd-e3ca-d3110dc0242e"
      },
      "source": [
        "day = dataset.groupby(['day']).mean()\r\n",
        "day.drop(columns=['game', 'section','vendor'], axis=1, inplace=True)\r\n",
        "day=day/day.max()\r\n",
        "day= day.rename(columns={'day': 'day', 'hot_dogs_sold': 'Dfactor'})\r\n",
        "day"
      ],
      "execution_count": 148,
      "outputs": [
        {
          "output_type": "execute_result",
          "data": {
            "text/html": [
              "<div>\n",
              "<style scoped>\n",
              "    .dataframe tbody tr th:only-of-type {\n",
              "        vertical-align: middle;\n",
              "    }\n",
              "\n",
              "    .dataframe tbody tr th {\n",
              "        vertical-align: top;\n",
              "    }\n",
              "\n",
              "    .dataframe thead th {\n",
              "        text-align: right;\n",
              "    }\n",
              "</style>\n",
              "<table border=\"1\" class=\"dataframe\">\n",
              "  <thead>\n",
              "    <tr style=\"text-align: right;\">\n",
              "      <th></th>\n",
              "      <th>Dfactor</th>\n",
              "    </tr>\n",
              "    <tr>\n",
              "      <th>day</th>\n",
              "      <th></th>\n",
              "    </tr>\n",
              "  </thead>\n",
              "  <tbody>\n",
              "    <tr>\n",
              "      <th>1</th>\n",
              "      <td>0.683104</td>\n",
              "    </tr>\n",
              "    <tr>\n",
              "      <th>2</th>\n",
              "      <td>0.775961</td>\n",
              "    </tr>\n",
              "    <tr>\n",
              "      <th>3</th>\n",
              "      <td>0.735000</td>\n",
              "    </tr>\n",
              "    <tr>\n",
              "      <th>4</th>\n",
              "      <td>0.780252</td>\n",
              "    </tr>\n",
              "    <tr>\n",
              "      <th>5</th>\n",
              "      <td>0.829860</td>\n",
              "    </tr>\n",
              "    <tr>\n",
              "      <th>6</th>\n",
              "      <td>0.915260</td>\n",
              "    </tr>\n",
              "    <tr>\n",
              "      <th>7</th>\n",
              "      <td>1.000000</td>\n",
              "    </tr>\n",
              "  </tbody>\n",
              "</table>\n",
              "</div>"
            ],
            "text/plain": [
              "      Dfactor\n",
              "day          \n",
              "1    0.683104\n",
              "2    0.775961\n",
              "3    0.735000\n",
              "4    0.780252\n",
              "5    0.829860\n",
              "6    0.915260\n",
              "7    1.000000"
            ]
          },
          "metadata": {
            "tags": []
          },
          "execution_count": 148
        }
      ]
    },
    {
      "cell_type": "code",
      "metadata": {
        "colab": {
          "base_uri": "https://localhost:8080/",
          "height": 230
        },
        "id": "42CKFJu64pAO",
        "outputId": "cc889b41-4ddd-4539-ea5c-706a14c0de9e"
      },
      "source": [
        "section = dataset.groupby(['section']).mean()\r\n",
        "section.drop(columns=['game', 'day','vendor'], axis=1, inplace=True)\r\n",
        "section=section/section.max()\r\n",
        "section= section.rename(columns={'section': 'section', 'hot_dogs_sold': 'Sfactor'})\r\n",
        "section.head()"
      ],
      "execution_count": 149,
      "outputs": [
        {
          "output_type": "execute_result",
          "data": {
            "text/html": [
              "<div>\n",
              "<style scoped>\n",
              "    .dataframe tbody tr th:only-of-type {\n",
              "        vertical-align: middle;\n",
              "    }\n",
              "\n",
              "    .dataframe tbody tr th {\n",
              "        vertical-align: top;\n",
              "    }\n",
              "\n",
              "    .dataframe thead th {\n",
              "        text-align: right;\n",
              "    }\n",
              "</style>\n",
              "<table border=\"1\" class=\"dataframe\">\n",
              "  <thead>\n",
              "    <tr style=\"text-align: right;\">\n",
              "      <th></th>\n",
              "      <th>Sfactor</th>\n",
              "    </tr>\n",
              "    <tr>\n",
              "      <th>section</th>\n",
              "      <th></th>\n",
              "    </tr>\n",
              "  </thead>\n",
              "  <tbody>\n",
              "    <tr>\n",
              "      <th>1</th>\n",
              "      <td>0.979550</td>\n",
              "    </tr>\n",
              "    <tr>\n",
              "      <th>2</th>\n",
              "      <td>0.780209</td>\n",
              "    </tr>\n",
              "    <tr>\n",
              "      <th>3</th>\n",
              "      <td>0.779073</td>\n",
              "    </tr>\n",
              "    <tr>\n",
              "      <th>4</th>\n",
              "      <td>0.755719</td>\n",
              "    </tr>\n",
              "    <tr>\n",
              "      <th>5</th>\n",
              "      <td>0.788523</td>\n",
              "    </tr>\n",
              "  </tbody>\n",
              "</table>\n",
              "</div>"
            ],
            "text/plain": [
              "          Sfactor\n",
              "section          \n",
              "1        0.979550\n",
              "2        0.780209\n",
              "3        0.779073\n",
              "4        0.755719\n",
              "5        0.788523"
            ]
          },
          "metadata": {
            "tags": []
          },
          "execution_count": 149
        }
      ]
    },
    {
      "cell_type": "code",
      "metadata": {
        "id": "VD9jFHYNY1iP",
        "colab": {
          "base_uri": "https://localhost:8080/",
          "height": 200
        },
        "outputId": "64100a2e-2bd9-49b3-ec3d-a44af0a8dcae"
      },
      "source": [
        "dataset = dataset.merge(gm, on='game')\r\n",
        "dataset = dataset.merge(day, on='day')\r\n",
        "dataset = dataset.merge(section, on='section')\r\n",
        "dataset.head()"
      ],
      "execution_count": 150,
      "outputs": [
        {
          "output_type": "execute_result",
          "data": {
            "text/html": [
              "<div>\n",
              "<style scoped>\n",
              "    .dataframe tbody tr th:only-of-type {\n",
              "        vertical-align: middle;\n",
              "    }\n",
              "\n",
              "    .dataframe tbody tr th {\n",
              "        vertical-align: top;\n",
              "    }\n",
              "\n",
              "    .dataframe thead th {\n",
              "        text-align: right;\n",
              "    }\n",
              "</style>\n",
              "<table border=\"1\" class=\"dataframe\">\n",
              "  <thead>\n",
              "    <tr style=\"text-align: right;\">\n",
              "      <th></th>\n",
              "      <th>game</th>\n",
              "      <th>day</th>\n",
              "      <th>section</th>\n",
              "      <th>vendor</th>\n",
              "      <th>hot_dogs_sold</th>\n",
              "      <th>Gfactor</th>\n",
              "      <th>Dfactor</th>\n",
              "      <th>Sfactor</th>\n",
              "    </tr>\n",
              "  </thead>\n",
              "  <tbody>\n",
              "    <tr>\n",
              "      <th>0</th>\n",
              "      <td>1</td>\n",
              "      <td>2</td>\n",
              "      <td>1</td>\n",
              "      <td>6</td>\n",
              "      <td>145</td>\n",
              "      <td>0.743993</td>\n",
              "      <td>0.775961</td>\n",
              "      <td>0.97955</td>\n",
              "    </tr>\n",
              "    <tr>\n",
              "      <th>1</th>\n",
              "      <td>15</td>\n",
              "      <td>2</td>\n",
              "      <td>1</td>\n",
              "      <td>2</td>\n",
              "      <td>184</td>\n",
              "      <td>0.666114</td>\n",
              "      <td>0.775961</td>\n",
              "      <td>0.97955</td>\n",
              "    </tr>\n",
              "    <tr>\n",
              "      <th>2</th>\n",
              "      <td>22</td>\n",
              "      <td>2</td>\n",
              "      <td>1</td>\n",
              "      <td>11</td>\n",
              "      <td>239</td>\n",
              "      <td>0.686827</td>\n",
              "      <td>0.775961</td>\n",
              "      <td>0.97955</td>\n",
              "    </tr>\n",
              "    <tr>\n",
              "      <th>3</th>\n",
              "      <td>29</td>\n",
              "      <td>2</td>\n",
              "      <td>1</td>\n",
              "      <td>1</td>\n",
              "      <td>297</td>\n",
              "      <td>0.888429</td>\n",
              "      <td>0.775961</td>\n",
              "      <td>0.97955</td>\n",
              "    </tr>\n",
              "    <tr>\n",
              "      <th>4</th>\n",
              "      <td>36</td>\n",
              "      <td>2</td>\n",
              "      <td>1</td>\n",
              "      <td>7</td>\n",
              "      <td>95</td>\n",
              "      <td>0.734880</td>\n",
              "      <td>0.775961</td>\n",
              "      <td>0.97955</td>\n",
              "    </tr>\n",
              "  </tbody>\n",
              "</table>\n",
              "</div>"
            ],
            "text/plain": [
              "   game  day  section  vendor  hot_dogs_sold   Gfactor   Dfactor  Sfactor\n",
              "0     1    2        1       6            145  0.743993  0.775961  0.97955\n",
              "1    15    2        1       2            184  0.666114  0.775961  0.97955\n",
              "2    22    2        1      11            239  0.686827  0.775961  0.97955\n",
              "3    29    2        1       1            297  0.888429  0.775961  0.97955\n",
              "4    36    2        1       7             95  0.734880  0.775961  0.97955"
            ]
          },
          "metadata": {
            "tags": []
          },
          "execution_count": 150
        }
      ]
    },
    {
      "cell_type": "markdown",
      "metadata": {
        "id": "IgiAksMglnYX"
      },
      "source": [
        "Disregarding the affect of other factors( game, day, section) for the number of hot dogs sold"
      ]
    },
    {
      "cell_type": "code",
      "metadata": {
        "colab": {
          "base_uri": "https://localhost:8080/",
          "height": 200
        },
        "id": "QBmRdf_JxNiP",
        "outputId": "df56d143-a71a-4611-b9f2-14bda81b5a90"
      },
      "source": [
        "dataset['Factored_hot_dogs_sold'] = dataset.hot_dogs_sold/(dataset.Gfactor * dataset.Dfactor * dataset.Sfactor )\r\n",
        "dataset.head()"
      ],
      "execution_count": 151,
      "outputs": [
        {
          "output_type": "execute_result",
          "data": {
            "text/html": [
              "<div>\n",
              "<style scoped>\n",
              "    .dataframe tbody tr th:only-of-type {\n",
              "        vertical-align: middle;\n",
              "    }\n",
              "\n",
              "    .dataframe tbody tr th {\n",
              "        vertical-align: top;\n",
              "    }\n",
              "\n",
              "    .dataframe thead th {\n",
              "        text-align: right;\n",
              "    }\n",
              "</style>\n",
              "<table border=\"1\" class=\"dataframe\">\n",
              "  <thead>\n",
              "    <tr style=\"text-align: right;\">\n",
              "      <th></th>\n",
              "      <th>game</th>\n",
              "      <th>day</th>\n",
              "      <th>section</th>\n",
              "      <th>vendor</th>\n",
              "      <th>hot_dogs_sold</th>\n",
              "      <th>Gfactor</th>\n",
              "      <th>Dfactor</th>\n",
              "      <th>Sfactor</th>\n",
              "      <th>Factored_hot_dogs_sold</th>\n",
              "    </tr>\n",
              "  </thead>\n",
              "  <tbody>\n",
              "    <tr>\n",
              "      <th>0</th>\n",
              "      <td>1</td>\n",
              "      <td>2</td>\n",
              "      <td>1</td>\n",
              "      <td>6</td>\n",
              "      <td>145</td>\n",
              "      <td>0.743993</td>\n",
              "      <td>0.775961</td>\n",
              "      <td>0.97955</td>\n",
              "      <td>256.408470</td>\n",
              "    </tr>\n",
              "    <tr>\n",
              "      <th>1</th>\n",
              "      <td>15</td>\n",
              "      <td>2</td>\n",
              "      <td>1</td>\n",
              "      <td>2</td>\n",
              "      <td>184</td>\n",
              "      <td>0.666114</td>\n",
              "      <td>0.775961</td>\n",
              "      <td>0.97955</td>\n",
              "      <td>363.414688</td>\n",
              "    </tr>\n",
              "    <tr>\n",
              "      <th>2</th>\n",
              "      <td>22</td>\n",
              "      <td>2</td>\n",
              "      <td>1</td>\n",
              "      <td>11</td>\n",
              "      <td>239</td>\n",
              "      <td>0.686827</td>\n",
              "      <td>0.775961</td>\n",
              "      <td>0.97955</td>\n",
              "      <td>457.808732</td>\n",
              "    </tr>\n",
              "    <tr>\n",
              "      <th>3</th>\n",
              "      <td>29</td>\n",
              "      <td>2</td>\n",
              "      <td>1</td>\n",
              "      <td>1</td>\n",
              "      <td>297</td>\n",
              "      <td>0.888429</td>\n",
              "      <td>0.775961</td>\n",
              "      <td>0.97955</td>\n",
              "      <td>439.812274</td>\n",
              "    </tr>\n",
              "    <tr>\n",
              "      <th>4</th>\n",
              "      <td>36</td>\n",
              "      <td>2</td>\n",
              "      <td>1</td>\n",
              "      <td>7</td>\n",
              "      <td>95</td>\n",
              "      <td>0.734880</td>\n",
              "      <td>0.775961</td>\n",
              "      <td>0.97955</td>\n",
              "      <td>170.075081</td>\n",
              "    </tr>\n",
              "  </tbody>\n",
              "</table>\n",
              "</div>"
            ],
            "text/plain": [
              "   game  day  section  ...   Dfactor  Sfactor  Factored_hot_dogs_sold\n",
              "0     1    2        1  ...  0.775961  0.97955              256.408470\n",
              "1    15    2        1  ...  0.775961  0.97955              363.414688\n",
              "2    22    2        1  ...  0.775961  0.97955              457.808732\n",
              "3    29    2        1  ...  0.775961  0.97955              439.812274\n",
              "4    36    2        1  ...  0.775961  0.97955              170.075081\n",
              "\n",
              "[5 rows x 9 columns]"
            ]
          },
          "metadata": {
            "tags": []
          },
          "execution_count": 151
        }
      ]
    },
    {
      "cell_type": "code",
      "metadata": {
        "colab": {
          "base_uri": "https://localhost:8080/",
          "height": 230
        },
        "id": "NSMtTvwyzNPS",
        "outputId": "59496d59-b99c-4be7-b80f-db464df3b5dc"
      },
      "source": [
        "dataset1 = dataset.groupby(['vendor']).mean()\r\n",
        "dataset1.head()"
      ],
      "execution_count": 152,
      "outputs": [
        {
          "output_type": "execute_result",
          "data": {
            "text/html": [
              "<div>\n",
              "<style scoped>\n",
              "    .dataframe tbody tr th:only-of-type {\n",
              "        vertical-align: middle;\n",
              "    }\n",
              "\n",
              "    .dataframe tbody tr th {\n",
              "        vertical-align: top;\n",
              "    }\n",
              "\n",
              "    .dataframe thead th {\n",
              "        text-align: right;\n",
              "    }\n",
              "</style>\n",
              "<table border=\"1\" class=\"dataframe\">\n",
              "  <thead>\n",
              "    <tr style=\"text-align: right;\">\n",
              "      <th></th>\n",
              "      <th>game</th>\n",
              "      <th>day</th>\n",
              "      <th>section</th>\n",
              "      <th>hot_dogs_sold</th>\n",
              "      <th>Gfactor</th>\n",
              "      <th>Dfactor</th>\n",
              "      <th>Sfactor</th>\n",
              "      <th>Factored_hot_dogs_sold</th>\n",
              "    </tr>\n",
              "    <tr>\n",
              "      <th>vendor</th>\n",
              "      <th></th>\n",
              "      <th></th>\n",
              "      <th></th>\n",
              "      <th></th>\n",
              "      <th></th>\n",
              "      <th></th>\n",
              "      <th></th>\n",
              "      <th></th>\n",
              "    </tr>\n",
              "  </thead>\n",
              "  <tbody>\n",
              "    <tr>\n",
              "      <th>1</th>\n",
              "      <td>41.760563</td>\n",
              "      <td>3.915493</td>\n",
              "      <td>10.521127</td>\n",
              "      <td>123.661972</td>\n",
              "      <td>0.742604</td>\n",
              "      <td>0.813317</td>\n",
              "      <td>0.814093</td>\n",
              "      <td>248.782321</td>\n",
              "    </tr>\n",
              "    <tr>\n",
              "      <th>2</th>\n",
              "      <td>42.984848</td>\n",
              "      <td>4.000000</td>\n",
              "      <td>10.136364</td>\n",
              "      <td>142.954545</td>\n",
              "      <td>0.752765</td>\n",
              "      <td>0.818200</td>\n",
              "      <td>0.826306</td>\n",
              "      <td>280.441591</td>\n",
              "    </tr>\n",
              "    <tr>\n",
              "      <th>3</th>\n",
              "      <td>40.295775</td>\n",
              "      <td>4.028169</td>\n",
              "      <td>10.239437</td>\n",
              "      <td>151.957746</td>\n",
              "      <td>0.744397</td>\n",
              "      <td>0.816605</td>\n",
              "      <td>0.808818</td>\n",
              "      <td>322.855003</td>\n",
              "    </tr>\n",
              "    <tr>\n",
              "      <th>4</th>\n",
              "      <td>40.540541</td>\n",
              "      <td>3.986486</td>\n",
              "      <td>9.148649</td>\n",
              "      <td>113.189189</td>\n",
              "      <td>0.745268</td>\n",
              "      <td>0.814520</td>\n",
              "      <td>0.818932</td>\n",
              "      <td>230.689746</td>\n",
              "    </tr>\n",
              "    <tr>\n",
              "      <th>5</th>\n",
              "      <td>41.191781</td>\n",
              "      <td>4.027397</td>\n",
              "      <td>10.712329</td>\n",
              "      <td>142.178082</td>\n",
              "      <td>0.748599</td>\n",
              "      <td>0.819292</td>\n",
              "      <td>0.805376</td>\n",
              "      <td>292.515303</td>\n",
              "    </tr>\n",
              "  </tbody>\n",
              "</table>\n",
              "</div>"
            ],
            "text/plain": [
              "             game       day  ...   Sfactor  Factored_hot_dogs_sold\n",
              "vendor                       ...                                  \n",
              "1       41.760563  3.915493  ...  0.814093              248.782321\n",
              "2       42.984848  4.000000  ...  0.826306              280.441591\n",
              "3       40.295775  4.028169  ...  0.808818              322.855003\n",
              "4       40.540541  3.986486  ...  0.818932              230.689746\n",
              "5       41.191781  4.027397  ...  0.805376              292.515303\n",
              "\n",
              "[5 rows x 8 columns]"
            ]
          },
          "metadata": {
            "tags": []
          },
          "execution_count": 152
        }
      ]
    },
    {
      "cell_type": "markdown",
      "metadata": {
        "id": "QE00DglWl7q_"
      },
      "source": [
        "Sorting the vendors based on the effective average number of hot dogs sold "
      ]
    },
    {
      "cell_type": "code",
      "metadata": {
        "colab": {
          "base_uri": "https://localhost:8080/",
          "height": 230
        },
        "id": "LEP-D0mzLzm4",
        "outputId": "71c18c99-5571-4d7f-e1ae-01842a3cc68a"
      },
      "source": [
        "dataset2 = dataset1.drop(['game','day','section','hot_dogs_sold','Gfactor','Dfactor','Sfactor'], axis=1)\r\n",
        "dataset2 = dataset2.sort_values(by=['Factored_hot_dogs_sold'], ascending=False)\r\n",
        "dataset2.head()"
      ],
      "execution_count": 154,
      "outputs": [
        {
          "output_type": "execute_result",
          "data": {
            "text/html": [
              "<div>\n",
              "<style scoped>\n",
              "    .dataframe tbody tr th:only-of-type {\n",
              "        vertical-align: middle;\n",
              "    }\n",
              "\n",
              "    .dataframe tbody tr th {\n",
              "        vertical-align: top;\n",
              "    }\n",
              "\n",
              "    .dataframe thead th {\n",
              "        text-align: right;\n",
              "    }\n",
              "</style>\n",
              "<table border=\"1\" class=\"dataframe\">\n",
              "  <thead>\n",
              "    <tr style=\"text-align: right;\">\n",
              "      <th></th>\n",
              "      <th>Factored_hot_dogs_sold</th>\n",
              "    </tr>\n",
              "    <tr>\n",
              "      <th>vendor</th>\n",
              "      <th></th>\n",
              "    </tr>\n",
              "  </thead>\n",
              "  <tbody>\n",
              "    <tr>\n",
              "      <th>29</th>\n",
              "      <td>392.722348</td>\n",
              "    </tr>\n",
              "    <tr>\n",
              "      <th>20</th>\n",
              "      <td>344.911973</td>\n",
              "    </tr>\n",
              "    <tr>\n",
              "      <th>21</th>\n",
              "      <td>328.627521</td>\n",
              "    </tr>\n",
              "    <tr>\n",
              "      <th>27</th>\n",
              "      <td>323.931225</td>\n",
              "    </tr>\n",
              "    <tr>\n",
              "      <th>3</th>\n",
              "      <td>322.855003</td>\n",
              "    </tr>\n",
              "  </tbody>\n",
              "</table>\n",
              "</div>"
            ],
            "text/plain": [
              "        Factored_hot_dogs_sold\n",
              "vendor                        \n",
              "29                  392.722348\n",
              "20                  344.911973\n",
              "21                  328.627521\n",
              "27                  323.931225\n",
              "3                   322.855003"
            ]
          },
          "metadata": {
            "tags": []
          },
          "execution_count": 154
        }
      ]
    },
    {
      "cell_type": "code",
      "metadata": {
        "colab": {
          "base_uri": "https://localhost:8080/",
          "height": 17
        },
        "id": "AAQggahumKMh",
        "outputId": "db4910c7-9562-4bab-bb82-f6baaf313a1c"
      },
      "source": [
        "from google.colab import files\r\n",
        "dataset2.to_csv('Ranked_vendors.csv') \r\n",
        "files.download('Ranked_vendors.csv')"
      ],
      "execution_count": 157,
      "outputs": [
        {
          "output_type": "display_data",
          "data": {
            "application/javascript": [
              "\n",
              "    async function download(id, filename, size) {\n",
              "      if (!google.colab.kernel.accessAllowed) {\n",
              "        return;\n",
              "      }\n",
              "      const div = document.createElement('div');\n",
              "      const label = document.createElement('label');\n",
              "      label.textContent = `Downloading \"${filename}\": `;\n",
              "      div.appendChild(label);\n",
              "      const progress = document.createElement('progress');\n",
              "      progress.max = size;\n",
              "      div.appendChild(progress);\n",
              "      document.body.appendChild(div);\n",
              "\n",
              "      const buffers = [];\n",
              "      let downloaded = 0;\n",
              "\n",
              "      const channel = await google.colab.kernel.comms.open(id);\n",
              "      // Send a message to notify the kernel that we're ready.\n",
              "      channel.send({})\n",
              "\n",
              "      for await (const message of channel.messages) {\n",
              "        // Send a message to notify the kernel that we're ready.\n",
              "        channel.send({})\n",
              "        if (message.buffers) {\n",
              "          for (const buffer of message.buffers) {\n",
              "            buffers.push(buffer);\n",
              "            downloaded += buffer.byteLength;\n",
              "            progress.value = downloaded;\n",
              "          }\n",
              "        }\n",
              "      }\n",
              "      const blob = new Blob(buffers, {type: 'application/binary'});\n",
              "      const a = document.createElement('a');\n",
              "      a.href = window.URL.createObjectURL(blob);\n",
              "      a.download = filename;\n",
              "      div.appendChild(a);\n",
              "      a.click();\n",
              "      div.remove();\n",
              "    }\n",
              "  "
            ],
            "text/plain": [
              "<IPython.core.display.Javascript object>"
            ]
          },
          "metadata": {
            "tags": []
          }
        },
        {
          "output_type": "display_data",
          "data": {
            "application/javascript": [
              "download(\"download_aedb4a37-a2e6-45f8-a945-c080f5500f49\", \"Ranked_vendors.csv\", 663)"
            ],
            "text/plain": [
              "<IPython.core.display.Javascript object>"
            ]
          },
          "metadata": {
            "tags": []
          }
        }
      ]
    }
  ]
}